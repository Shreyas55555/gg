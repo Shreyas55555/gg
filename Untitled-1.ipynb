{
 "cells": [
  {
   "cell_type": "code",
   "execution_count": null,
   "metadata": {},
   "outputs": [],
   "source": [
    "# Install tkinter on Ubuntu/Debian\n",
    "sudo apt-get install python3-tk\n",
    "\n",
    "# Install tkinter on CentOS/RHEL\n",
    "sudo yum install python3-tkinter\n",
    "\n",
    "# For macOS, tkinter is included with the Python installation by default.\n",
    "# If using Homebrew Python, tkinter should also be available.\n",
    "\n"
   ]
  }
 ],
 "metadata": {
  "language_info": {
   "name": "python"
  }
 },
 "nbformat": 4,
 "nbformat_minor": 2
}
